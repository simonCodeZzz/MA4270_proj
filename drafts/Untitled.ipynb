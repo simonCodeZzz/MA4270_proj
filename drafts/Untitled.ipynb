{
 "cells": [
  {
   "cell_type": "code",
   "execution_count": 1,
   "id": "9d6a65a5-1d7c-4041-b266-04bf8fcd8101",
   "metadata": {},
   "outputs": [],
   "source": [
    "import numpy as np\n",
    "import pandas as pd\n",
    "\n",
    "from RFF import RBF_kernel, Laplacian_kernel, RFF\n",
    "from time import time\n",
    "\n",
    "from sklearn.svm import SVC, LinearSVC\n",
    "from sklearn.kernel_ridge import KernelRidge\n",
    "from sklearn.linear_model import Ridge\n",
    "from sklearn.preprocessing import StandardScaler\n",
    "from sklearn.multiclass import OneVsRestClassifier\n",
    "from sklearn.pipeline import Pipeline\n",
    "from sklearn.metrics import accuracy_score, mean_squared_error\n",
    "from sklearn.model_selection import train_test_split\n",
    "from sklearn.datasets import fetch_california_housing\n",
    "\n",
    "housing_X, housing_y = fetch_california_housing(return_X_y=True)\n",
    "X_train, X_test, y_train, y_test = train_test_split(housing_X, housing_y, test_size=0.4, random_state=42)"
   ]
  },
  {
   "cell_type": "code",
   "execution_count": 17,
   "id": "3adc52ea-b8e1-495f-b48f-9490a8589373",
   "metadata": {},
   "outputs": [],
   "source": [
    "n_features = X_train.shape[1]\n",
    "n_data = X_train.shape[0]\n",
    "n_data_list = np.linspace(0, n_data, num=11, dtype=int)[1:]"
   ]
  },
  {
   "cell_type": "code",
   "execution_count": 19,
   "id": "a0bb0bcf-de70-47cc-ac58-5dfd60ed6841",
   "metadata": {},
   "outputs": [
    {
     "data": {
      "text/plain": [
       "array([ 1238,  2476,  3715,  4953,  6192,  7430,  8668,  9907, 11145,\n",
       "       12384])"
      ]
     },
     "execution_count": 19,
     "metadata": {},
     "output_type": "execute_result"
    }
   ],
   "source": [
    "n_data_list"
   ]
  },
  {
   "cell_type": "code",
   "execution_count": 22,
   "id": "308889a1-0e4d-49ce-a698-41a36b1ac6ad",
   "metadata": {},
   "outputs": [],
   "source": [
    "np.save(\"data/data_num_housing\", n_data_list)"
   ]
  },
  {
   "cell_type": "code",
   "execution_count": 16,
   "id": "5b93ed94-275b-40be-a770-ccc6487f15d3",
   "metadata": {},
   "outputs": [
    {
     "data": {
      "text/plain": [
       "(1238, 8)"
      ]
     },
     "execution_count": 16,
     "metadata": {},
     "output_type": "execute_result"
    }
   ],
   "source": [
    "X_train[:n_data[0],].shape"
   ]
  }
 ],
 "metadata": {
  "kernelspec": {
   "display_name": "Python 3 (ipykernel)",
   "language": "python",
   "name": "python3"
  },
  "language_info": {
   "codemirror_mode": {
    "name": "ipython",
    "version": 3
   },
   "file_extension": ".py",
   "mimetype": "text/x-python",
   "name": "python",
   "nbconvert_exporter": "python",
   "pygments_lexer": "ipython3",
   "version": "3.7.11"
  }
 },
 "nbformat": 4,
 "nbformat_minor": 5
}
